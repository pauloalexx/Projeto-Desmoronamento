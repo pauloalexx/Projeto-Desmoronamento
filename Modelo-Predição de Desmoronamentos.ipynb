{
 "cells": [
  {
   "attachments": {},
   "cell_type": "markdown",
   "metadata": {},
   "source": [
    "### Esse será um simulador para predição de desmoronamento de pilhas"
   ]
  },
  {
   "cell_type": "code",
   "execution_count": 1,
   "metadata": {},
   "outputs": [
    {
     "name": "stdout",
     "output_type": "stream",
     "text": [
      "onde está isso\n",
      "Agora essa parada vai rodar\n"
     ]
    }
   ],
   "source": [
    "import pandas as pd\n",
    "print('onde está isso')\n",
    "print('Agora essa parada vai rodar')\n",
    "\n",
    "# Aula de git\n",
    "\n",
    "# git add . -> para adicionar novos arquivos na git\n",
    "# git commit -m \"comentário aqui\" -> para salvar versão a ser subida para GitHub\n",
    "# git branch -> para verificar quais branchs existem (versões)\n",
    "# git branch nome nova branch -> criar nova branch\n",
    "# git push -> para subir o arquivo no gitHub\n",
    "# git checkout nomedabranch -> para andar entre as branchs (versões)\n",
    "# git pull -> para baixar arquivo do github\n",
    "# git merge nome_do_branch -> juntar a branch atual na branch nomeada no código\n",
    "# git rebase nome_do_branch -> puxa toda a história do branch informada para dentro do branch atual e soma tudo\n",
    "#  git push --set-upstream origin Desmoronamento -> adiciona branch \"Desmoronamento\" no GitHub\n",
    "# git -> sistema de versionamento de códigos (arquivos)\n",
    "# github -> plataforma parecida com uma rede social para programadores. Área para colaboração entre programadores\n",
    "# git config --global user.name \"Seu nome de exibição\" -> Para configurar o git na máquina com nome do usuário igual ao do github\n",
    "# git config --global user.email \"seu email\" -> para configurar o git na máquina com e-mail cadastrado no github\n",
    "# git -v -> apresenta a versão do git instalado na máquina \n",
    "# cd -> comando usado para andar entre as pastas (diretórios da máquina)"
   ]
  }
 ],
 "metadata": {
  "kernelspec": {
   "display_name": "base",
   "language": "python",
   "name": "python3"
  },
  "language_info": {
   "codemirror_mode": {
    "name": "ipython",
    "version": 3
   },
   "file_extension": ".py",
   "mimetype": "text/x-python",
   "name": "python",
   "nbconvert_exporter": "python",
   "pygments_lexer": "ipython3",
   "version": "3.9.13"
  },
  "orig_nbformat": 4,
  "vscode": {
   "interpreter": {
    "hash": "a62288e785fe416a7c798c377a8e9129ff3b1f8ae4d07fab384cda60b746df56"
   }
  }
 },
 "nbformat": 4,
 "nbformat_minor": 2
}
