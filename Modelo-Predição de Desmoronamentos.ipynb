{
 "cells": [
  {
   "attachments": {},
   "cell_type": "markdown",
   "metadata": {},
   "source": [
    "### Esse será um simulador para predição de desmoronamento de pilhas"
   ]
  },
  {
   "cell_type": "code",
   "execution_count": 1,
   "metadata": {},
   "outputs": [
    {
     "name": "stdout",
     "output_type": "stream",
     "text": [
      "onde está isso\n"
     ]
    }
   ],
   "source": [
    "print('onde está isso')\n",
    "print('Agora essa parada vai rodar')\n",
    "# Aula de git"
   ]
  }
 ],
 "metadata": {
  "kernelspec": {
   "display_name": "base",
   "language": "python",
   "name": "python3"
  },
  "language_info": {
   "codemirror_mode": {
    "name": "ipython",
    "version": 3
   },
   "file_extension": ".py",
   "mimetype": "text/x-python",
   "name": "python",
   "nbconvert_exporter": "python",
   "pygments_lexer": "ipython3",
   "version": "3.9.13 (main, Aug 25 2022, 23:51:50) [MSC v.1916 64 bit (AMD64)]"
  },
  "orig_nbformat": 4,
  "vscode": {
   "interpreter": {
    "hash": "a62288e785fe416a7c798c377a8e9129ff3b1f8ae4d07fab384cda60b746df56"
   }
  }
 },
 "nbformat": 4,
 "nbformat_minor": 2
}
